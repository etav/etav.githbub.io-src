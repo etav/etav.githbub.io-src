{
 "cells": [
  {
   "cell_type": "markdown",
   "metadata": {},
   "source": [
    "# Applying Conditional Functions To List Items\n",
    "\n",
    "- **Author:** [Chris Albon](http://www.chrisalbon.com/), [@ChrisAlbon](https://twitter.com/chrisalbon)\n",
    "- **Date:** -\n",
    "- **Repo:** [Python 3 code snippets for data science](https://github.com/chrisalbon/code_py)\n",
    "- **Note:** -"
   ]
  },
  {
   "cell_type": "markdown",
   "metadata": {},
   "source": [
    "### Create a list of regiment names"
   ]
  },
  {
   "cell_type": "code",
   "execution_count": 5,
   "metadata": {
    "collapsed": false
   },
   "outputs": [],
   "source": [
    "regimentNames = ['Night Riflemen', 'Jungle Scouts', 'The Dragoons', 'Midnight Revengence', 'Wily Warriors']"
   ]
  },
  {
   "cell_type": "markdown",
   "metadata": {},
   "source": [
    "## Using A Conditional For Loop"
   ]
  },
  {
   "cell_type": "markdown",
   "metadata": {},
   "source": [
    "### Create a for loop goes through the list and capitalizes an item if the first letter starts with N"
   ]
  },
  {
   "cell_type": "code",
   "execution_count": 9,
   "metadata": {
    "collapsed": false
   },
   "outputs": [
    {
     "data": {
      "text/plain": [
       "['NIGHT RIFLEMEN',\n",
       " 'Jungle Scouts',\n",
       " 'The Dragoons',\n",
       " 'Midnight Revengence',\n",
       " 'Wily Warriors']"
      ]
     },
     "execution_count": 9,
     "metadata": {},
     "output_type": "execute_result"
    }
   ],
   "source": [
    "# create a variable for the loop results\n",
    "regimentNamesCapitalized_f = []\n",
    "\n",
    "# for every item in regimentNames\n",
    "for i in regimentNames:\n",
    "    # if the first letter of the regiment's name is N\n",
    "    if i[0] == \"N\":\n",
    "        # capitalize the item and add it to regimentNamesCapitalized_f\n",
    "        regimentNamesCapitalized_f.append(i.upper())\n",
    "    # otherwise, add it to the new list without changing anything\n",
    "    else:\n",
    "        regimentNamesCapitalized_f.append(i)\n",
    "    \n",
    "# View the outcome\n",
    "regimentNamesCapitalized_f"
   ]
  },
  {
   "cell_type": "markdown",
   "metadata": {},
   "source": [
    "## Using List Comprehension With Conditionals"
   ]
  },
  {
   "cell_type": "markdown",
   "metadata": {},
   "source": [
    "### Apply the expression x.upper to each item in the list called regiment names if it matches a condition, else apply a different function (or, in this case, do nothing)"
   ]
  },
  {
   "cell_type": "code",
   "execution_count": 24,
   "metadata": {
    "collapsed": false
   },
   "outputs": [
    {
     "data": {
      "text/plain": [
       "['NIGHT RIFLEMEN',\n",
       " 'Jungle Scouts',\n",
       " 'The Dragoons',\n",
       " 'Midnight Revengence',\n",
       " 'Wily Warriors']"
      ]
     },
     "execution_count": 24,
     "metadata": {},
     "output_type": "execute_result"
    }
   ],
   "source": [
    "regimentNamesCapitalized_l =[x.upper() if x[0] == \"N\" else x for x in regimentNames]; regimentNamesCapitalized_l"
   ]
  },
  {
   "cell_type": "markdown",
   "metadata": {},
   "source": [
    "Note that the syntax for conditional list comprehension is **[x if y else z for k in v]**\n",
    "\n",
    "- x = function if conditional statement is true\n",
    "- y = conditional statement\n",
    "- z = function if conditional statement is not true\n",
    "- k = items in list\n",
    "- v = list variable"
   ]
  }
 ],
 "metadata": {
  "kernelspec": {
   "display_name": "Python 3",
   "language": "python",
   "name": "python3"
  },
  "language_info": {
   "codemirror_mode": {
    "name": "ipython",
    "version": 3
   },
   "file_extension": ".py",
   "mimetype": "text/x-python",
   "name": "python",
   "nbconvert_exporter": "python",
   "pygments_lexer": "ipython3",
   "version": "3.5.1"
  }
 },
 "nbformat": 4,
 "nbformat_minor": 0
}
