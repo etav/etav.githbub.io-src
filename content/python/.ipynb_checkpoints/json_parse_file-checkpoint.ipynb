{
 "cells": [
  {
   "cell_type": "markdown",
   "metadata": {},
   "source": [
    "# Parse JSON File"
   ]
  },
  {
   "cell_type": "markdown",
   "metadata": {},
   "source": [
    "## Preliminaries"
   ]
  },
  {
   "cell_type": "code",
   "execution_count": 31,
   "metadata": {
    "collapsed": false
   },
   "outputs": [],
   "source": [
    "import json\n",
    "import pandas as pd\n",
    "import requests"
   ]
  },
  {
   "cell_type": "markdown",
   "metadata": {},
   "source": [
    "## Get data"
   ]
  },
  {
   "cell_type": "code",
   "execution_count": 78,
   "metadata": {
    "collapsed": false
   },
   "outputs": [],
   "source": [
    "# Pull down some simple json data\n",
    "r = requests.get('http://api.zippopotam.us/us/ma/belmont')\n",
    "\n",
    "# Convert it into a python object\n",
    "data = r.json()"
   ]
  },
  {
   "cell_type": "code",
   "execution_count": 79,
   "metadata": {
    "collapsed": false
   },
   "outputs": [
    {
     "data": {
      "text/plain": [
       "{'state abbreviation': 'MA',\n",
       " 'place name': 'Belmont',\n",
       " 'country abbreviation': 'US',\n",
       " 'state': 'Massachusetts',\n",
       " 'places': [{'longitude': '-71.4594',\n",
       "   'latitude': '42.4464',\n",
       "   'place name': 'Belmont',\n",
       "   'post code': '02178'},\n",
       "  {'longitude': '-71.2044',\n",
       "   'latitude': '42.4128',\n",
       "   'place name': 'Belmont',\n",
       "   'post code': '02478'}],\n",
       " 'country': 'United States'}"
      ]
     },
     "execution_count": 79,
     "metadata": {},
     "output_type": "execute_result"
    }
   ],
   "source": [
    "# View the data\n",
    "data"
   ]
  },
  {
   "cell_type": "markdown",
   "metadata": {},
   "source": [
    "## Parse data"
   ]
  },
  {
   "cell_type": "code",
   "execution_count": 80,
   "metadata": {
    "collapsed": false
   },
   "outputs": [
    {
     "data": {
      "text/plain": [
       "[{'longitude': '-71.4594',\n",
       "  'latitude': '42.4464',\n",
       "  'place name': 'Belmont',\n",
       "  'post code': '02178'},\n",
       " {'longitude': '-71.2044',\n",
       "  'latitude': '42.4128',\n",
       "  'place name': 'Belmont',\n",
       "  'post code': '02478'}]"
      ]
     },
     "execution_count": 80,
     "metadata": {},
     "output_type": "execute_result"
    }
   ],
   "source": [
    "# One level deep\n",
    "data['places']"
   ]
  },
  {
   "cell_type": "code",
   "execution_count": 81,
   "metadata": {
    "collapsed": false
   },
   "outputs": [
    {
     "data": {
      "text/plain": [
       "{'longitude': '-71.2044',\n",
       " 'latitude': '42.4128',\n",
       " 'place name': 'Belmont',\n",
       " 'post code': '02478'}"
      ]
     },
     "execution_count": 81,
     "metadata": {},
     "output_type": "execute_result"
    }
   ],
   "source": [
    "# One level deep, second element\n",
    "data['places'][1]"
   ]
  },
  {
   "cell_type": "code",
   "execution_count": 82,
   "metadata": {
    "collapsed": false
   },
   "outputs": [
    {
     "data": {
      "text/plain": [
       "'-71.2044'"
      ]
     },
     "execution_count": 82,
     "metadata": {},
     "output_type": "execute_result"
    }
   ],
   "source": [
    "# One level down, then second item, then it's longitude object\n",
    "data['places'][1]['longitude']"
   ]
  },
  {
   "cell_type": "markdown",
   "metadata": {},
   "source": [
    "## Create a for loop to extract all lat/long coordinates"
   ]
  },
  {
   "cell_type": "code",
   "execution_count": 130,
   "metadata": {
    "collapsed": false
   },
   "outputs": [
    {
     "name": "stdout",
     "output_type": "stream",
     "text": [
      "42.4464 -71.4594\n",
      "42.4128 -71.2044\n"
     ]
    }
   ],
   "source": [
    "# For each element, i, in data.places,\n",
    "for i in data['places']:\n",
    "    # print the latitude element and the longitude element\n",
    "    print(i['latitude'], i['longitude'])"
   ]
  },
  {
   "cell_type": "markdown",
   "metadata": {},
   "source": [
    "## Same as above, but as a function"
   ]
  },
  {
   "cell_type": "code",
   "execution_count": 139,
   "metadata": {
    "collapsed": false
   },
   "outputs": [],
   "source": [
    "# Create a function that\n",
    "def extract_latlong(json):\n",
    "    # For each element, i, in data.places,\n",
    "    for i in data['places']:\n",
    "        # print the latitude element and the longitude element\n",
    "        print(i['latitude'], i['longitude'])"
   ]
  },
  {
   "cell_type": "code",
   "execution_count": 144,
   "metadata": {
    "collapsed": false
   },
   "outputs": [
    {
     "name": "stdout",
     "output_type": "stream",
     "text": [
      "42.4464 -71.4594\n",
      "42.4128 -71.2044\n"
     ]
    }
   ],
   "source": [
    "# Run the function\n",
    "extract_latlong(data)"
   ]
  }
 ],
 "metadata": {
  "kernelspec": {
   "display_name": "Python 3",
   "language": "python",
   "name": "python3"
  },
  "language_info": {
   "codemirror_mode": {
    "name": "ipython",
    "version": 3
   },
   "file_extension": ".py",
   "mimetype": "text/x-python",
   "name": "python",
   "nbconvert_exporter": "python",
   "pygments_lexer": "ipython3",
   "version": "3.5.1"
  }
 },
 "nbformat": 4,
 "nbformat_minor": 0
}
