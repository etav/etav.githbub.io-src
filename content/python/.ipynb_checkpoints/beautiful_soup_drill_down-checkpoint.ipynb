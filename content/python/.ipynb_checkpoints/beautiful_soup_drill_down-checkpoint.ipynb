{
 "cells": [
  {
   "cell_type": "markdown",
   "metadata": {},
   "source": [
    "Title: Drilling Down With Beautiful Soup  \n",
    "Slug: beautiful_soup_drill_down  \n",
    "Summary: Drilling Down With Beautiful Soup  \n",
    "Date: 2016-05-01 12:00  \n",
    "Category: Python  \n",
    "Tags: Web Scraping  \n",
    "Authors: Chris Albon  "
   ]
  },
  {
   "cell_type": "code",
   "execution_count": 9,
   "metadata": {
    "collapsed": false
   },
   "outputs": [],
   "source": [
    "# Import required modules\n",
    "import requests\n",
    "from bs4 import BeautifulSoup\n",
    "import pandas as pd"
   ]
  },
  {
   "cell_type": "markdown",
   "metadata": {},
   "source": [
    "### Download the HTML and create a Beautiful Soup object"
   ]
  },
  {
   "cell_type": "code",
   "execution_count": 10,
   "metadata": {
    "collapsed": false
   },
   "outputs": [],
   "source": [
    "# Create a variable with the URL to this tutorial\n",
    "url = 'http://en.wikipedia.org/wiki/List_of_A_Song_of_Ice_and_Fire_characters'\n",
    "\n",
    "# Scrape the HTML at the url\n",
    "r = requests.get(url)\n",
    "\n",
    "# Turn the HTML into a Beautiful Soup object\n",
    "soup = BeautifulSoup(r.text, \"lxml\")"
   ]
  },
  {
   "cell_type": "markdown",
   "metadata": {},
   "source": [
    "If we looked at the soup object, we'd see that the names we want are in a heirarchical list. In psuedo-code, it looks like:\n",
    "\n",
    "- class=toclevel-1 span=toctext\n",
    "    - class=toclevel-2 span=toctext CHARACTER NAMES\n",
    "    - class=toclevel-2 span=toctext CHARACTER NAMES\n",
    "    - class=toclevel-2 span=toctext CHARACTER NAMES\n",
    "    - class=toclevel-2 span=toctext CHARACTER NAMES\n",
    "    - class=toclevel-2 span=toctext CHARACTER NAMES\n",
    "    \n",
    "To get the CHARACTER NAMES, we are going to need to drill down to grap into loclevel-2 and grab the toctext"
   ]
  },
  {
   "cell_type": "markdown",
   "metadata": {},
   "source": [
    "### Setting up where to put the results"
   ]
  },
  {
   "cell_type": "code",
   "execution_count": 11,
   "metadata": {
    "collapsed": false
   },
   "outputs": [],
   "source": [
    "# Create a variable to score the scraped data in\n",
    "character_name = []"
   ]
  },
  {
   "cell_type": "markdown",
   "metadata": {},
   "source": [
    "### Drilling down with a forloop"
   ]
  },
  {
   "cell_type": "code",
   "execution_count": 12,
   "metadata": {
    "collapsed": false
   },
   "outputs": [],
   "source": [
    "# for each item in all the toclevel-2 li items\n",
    "# (except the last three because they are not character names), \n",
    "for item in soup.find_all('li',{'class':'toclevel-2'})[:-3]: \n",
    "    # find each span with class=toctext,\n",
    "    for post in item.find_all('span',{'class':'toctext'}): \n",
    "        # add the stripped string of each to character_name, one by one\n",
    "        character_name.append(post.string.strip())"
   ]
  },
  {
   "cell_type": "markdown",
   "metadata": {},
   "source": [
    "### The results"
   ]
  },
  {
   "cell_type": "code",
   "execution_count": 13,
   "metadata": {
    "collapsed": false
   },
   "outputs": [
    {
     "data": {
      "text/plain": [
       "['Eddard Stark',\n",
       " 'Catelyn Tully',\n",
       " 'Robb Stark',\n",
       " 'Sansa Stark',\n",
       " 'Arya Stark',\n",
       " 'Bran Stark',\n",
       " 'Rickon Stark',\n",
       " 'Jon Snow',\n",
       " 'Benjen Stark',\n",
       " 'Lyanna Stark',\n",
       " 'Theon Greyjoy',\n",
       " 'Roose Bolton',\n",
       " 'Ramsay Bolton',\n",
       " 'Hodor',\n",
       " 'Osha',\n",
       " 'Jeyne Poole',\n",
       " 'Jojen and Meera Reed',\n",
       " 'Jeyne Westerling',\n",
       " 'Daenerys Targaryen',\n",
       " 'Viserys Targaryen',\n",
       " 'Rhaegar Targaryen',\n",
       " 'Aegon V Targaryen',\n",
       " 'Aerys II Targaryen',\n",
       " 'Aegon VI Targaryen',\n",
       " 'Jon Connington',\n",
       " 'Jorah Mormont',\n",
       " 'Brynden Rivers',\n",
       " 'Missandei',\n",
       " 'Daario Naharis',\n",
       " 'Grey Worm',\n",
       " 'Jon Arryn',\n",
       " 'Lysa Arryn',\n",
       " 'Robert Arryn',\n",
       " 'Yohn Royce',\n",
       " 'Tywin Lannister',\n",
       " 'Cersei Lannister',\n",
       " 'Jaime Lannister',\n",
       " 'Joffrey Baratheon',\n",
       " 'Myrcella Baratheon',\n",
       " 'Tommen Baratheon',\n",
       " 'Tyrion Lannister',\n",
       " 'Kevan Lannister',\n",
       " 'Lancel Lannister',\n",
       " 'Bronn',\n",
       " 'Gregor Clegane',\n",
       " 'Sandor Clegane',\n",
       " 'Podrick Payne',\n",
       " 'Robert Baratheon',\n",
       " 'Stannis Baratheon',\n",
       " 'Selyse Baratheon',\n",
       " 'Shireen Baratheon',\n",
       " 'Melisandre',\n",
       " 'Davos Seaworth',\n",
       " 'Renly Baratheon',\n",
       " 'Brienne of Tarth',\n",
       " 'Beric Dondarrion',\n",
       " 'Gendry',\n",
       " 'Balon Greyjoy',\n",
       " 'Asha Greyjoy',\n",
       " 'Euron Greyjoy',\n",
       " 'Victarion Greyjoy',\n",
       " 'Aeron Greyjoy',\n",
       " 'Doran Martell',\n",
       " 'Arianne Martell',\n",
       " 'Quentyn Martell',\n",
       " 'Trystane Martell',\n",
       " 'Elia Martell',\n",
       " 'Oberyn Martell',\n",
       " 'Ellaria Sand',\n",
       " 'The Sand Snakes',\n",
       " 'Areo Hotah',\n",
       " 'Hoster Tully',\n",
       " 'Edmure Tully',\n",
       " 'Brynden Tully',\n",
       " 'Walder Frey',\n",
       " 'Mace Tyrell',\n",
       " 'Loras Tyrell',\n",
       " 'Margaery Tyrell',\n",
       " 'Olenna Tyrell',\n",
       " 'Randyll Tarly',\n",
       " 'Jeor Mormont',\n",
       " 'Maester Aemon',\n",
       " 'Yoren',\n",
       " 'Samwell Tarly',\n",
       " 'Janos Slynt',\n",
       " 'Alliser Thorne',\n",
       " 'Mance Rayder',\n",
       " 'Ygritte',\n",
       " 'Craster',\n",
       " 'Gilly',\n",
       " 'Val',\n",
       " 'Lord of Bones',\n",
       " 'Bowen Marsh',\n",
       " 'Eddison Tollett',\n",
       " 'Tormund Giantsbane',\n",
       " 'Petyr Baelish',\n",
       " 'Varys',\n",
       " 'Pycelle',\n",
       " 'Barristan Selmy',\n",
       " 'Arys Oakheart',\n",
       " 'Ilyn Payne',\n",
       " 'Qyburn',\n",
       " 'The High Sparrow',\n",
       " 'Khal Drogo',\n",
       " 'Syrio Forel',\n",
       " \"Jaqen H'ghar\",\n",
       " 'Illyrio Mopatis',\n",
       " 'Thoros of Myr',\n",
       " 'Ser Duncan the Tall',\n",
       " 'Hizdahr zo Loraq',\n",
       " 'Yezzan zo Qaggaz',\n",
       " 'Tycho Nestoris',\n",
       " 'The Waif',\n",
       " 'Septa Unella']"
      ]
     },
     "execution_count": 13,
     "metadata": {},
     "output_type": "execute_result"
    }
   ],
   "source": [
    "# View all the character names\n",
    "character_name"
   ]
  },
  {
   "cell_type": "markdown",
   "metadata": {},
   "source": [
    "## Quick analysis: Which house has the most main characters?"
   ]
  },
  {
   "cell_type": "code",
   "execution_count": 14,
   "metadata": {
    "collapsed": false
   },
   "outputs": [],
   "source": [
    "# Create a list object where to store the for loop results\n",
    "houses = []"
   ]
  },
  {
   "cell_type": "code",
   "execution_count": 15,
   "metadata": {
    "collapsed": false
   },
   "outputs": [],
   "source": [
    "# For each element in the character_name list,\n",
    "for name in character_name:\n",
    "    # split up the names by a blank space and select the last element\n",
    "    # this works because it is the last name if they are a house, \n",
    "    # but the first name if they only have one name,\n",
    "    # Then append each last name to the houses list\n",
    "    houses.append(name.split(' ')[-1])"
   ]
  },
  {
   "cell_type": "code",
   "execution_count": 16,
   "metadata": {
    "collapsed": false
   },
   "outputs": [
    {
     "data": {
      "text/plain": [
       "Baratheon     8\n",
       "Stark         8\n",
       "Targaryen     6\n",
       "Greyjoy       6\n",
       "Lannister     6\n",
       "Martell       6\n",
       "Tyrell        4\n",
       "Tully         4\n",
       "Arryn         3\n",
       "Clegane       2\n",
       "Bolton        2\n",
       "Mormont       2\n",
       "Payne         2\n",
       "Tarly         2\n",
       "Melisandre    1\n",
       "Giantsbane    1\n",
       "Ygritte       1\n",
       "Bronn         1\n",
       "Westerling    1\n",
       "Sand          1\n",
       "Osha          1\n",
       "Gendry        1\n",
       "Sparrow       1\n",
       "Drogo         1\n",
       "Qyburn        1\n",
       "Gilly         1\n",
       "Pycelle       1\n",
       "Craster       1\n",
       "H'ghar        1\n",
       "Oakheart      1\n",
       "             ..\n",
       "Rivers        1\n",
       "Seaworth      1\n",
       "Marsh         1\n",
       "Connington    1\n",
       "Hodor         1\n",
       "Val           1\n",
       "Unella        1\n",
       "Aemon         1\n",
       "Myr           1\n",
       "Slynt         1\n",
       "Dondarrion    1\n",
       "Baelish       1\n",
       "Qaggaz        1\n",
       "Yoren         1\n",
       "Mopatis       1\n",
       "Worm          1\n",
       "Varys         1\n",
       "Royce         1\n",
       "Nestoris      1\n",
       "Tarth         1\n",
       "Naharis       1\n",
       "Snakes        1\n",
       "Reed          1\n",
       "Bones         1\n",
       "Tollett       1\n",
       "Rayder        1\n",
       "Tall          1\n",
       "Selmy         1\n",
       "Hotah         1\n",
       "Snow          1\n",
       "dtype: int64"
      ]
     },
     "execution_count": 16,
     "metadata": {},
     "output_type": "execute_result"
    }
   ],
   "source": [
    "# Convert houses into a pandas series (so we can use value_counts())\n",
    "houses = pd.Series(houses)\n",
    "\n",
    "# Count the number of times each name/house name appears\n",
    "houses.value_counts()"
   ]
  }
 ],
 "metadata": {
  "kernelspec": {
   "display_name": "Python 3",
   "language": "python",
   "name": "python3"
  },
  "language_info": {
   "codemirror_mode": {
    "name": "ipython",
    "version": 3
   },
   "file_extension": ".py",
   "mimetype": "text/x-python",
   "name": "python",
   "nbconvert_exporter": "python",
   "pygments_lexer": "ipython3",
   "version": "3.5.1"
  }
 },
 "nbformat": 4,
 "nbformat_minor": 0
}
