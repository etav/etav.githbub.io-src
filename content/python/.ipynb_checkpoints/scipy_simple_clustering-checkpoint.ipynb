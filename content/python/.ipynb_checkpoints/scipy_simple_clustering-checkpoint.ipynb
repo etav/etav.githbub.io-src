{
 "cells": [
  {
   "cell_type": "markdown",
   "metadata": {},
   "source": [
    "# Simple Clustering With SciPy"
   ]
  },
  {
   "cell_type": "markdown",
   "metadata": {},
   "source": [
    "### Import modules"
   ]
  },
  {
   "cell_type": "code",
   "execution_count": 1,
   "metadata": {
    "collapsed": false
   },
   "outputs": [],
   "source": [
    "import numpy as np\n",
    "%matplotlib inline\n",
    "import matplotlib.pyplot as plt\n",
    "from scipy.cluster import vq"
   ]
  },
  {
   "cell_type": "markdown",
   "metadata": {},
   "source": [
    "### Create coordinates for battles for each year of the war"
   ]
  },
  {
   "cell_type": "code",
   "execution_count": 2,
   "metadata": {
    "collapsed": false
   },
   "outputs": [],
   "source": [
    "# create 100 coordinate pairs (i.e. two values), then add 5 to all of them\n",
    "year_1 = np.random.randn(100, 2) + 5\n",
    "\n",
    "# create 30 coordinatee pairs (i.e. two values), then subtract 5 to all of them\n",
    "year_2 = np.random.randn(30, 2) - 5\n",
    "\n",
    "# create 50 coordinatee pairs (i.e. two values)\n",
    "year_3 = np.random.randn(50, 2)"
   ]
  },
  {
   "cell_type": "markdown",
   "metadata": {},
   "source": [
    "### View the first 3 entries of each year of battles"
   ]
  },
  {
   "cell_type": "code",
   "execution_count": 3,
   "metadata": {
    "collapsed": false
   },
   "outputs": [
    {
     "name": "stdout",
     "output_type": "stream",
     "text": [
      "year 1 battles: [[ 6.444647    5.02172115]\n",
      " [ 3.69377452  4.12183648]\n",
      " [ 5.79694539  5.81071131]]\n",
      "year 2 battles: [[-5.53434906 -3.89450148]\n",
      " [-6.07183872 -5.23802176]\n",
      " [-4.38233498 -3.78185333]]\n",
      "year 3 battles: [[-0.55336652 -1.00545656]\n",
      " [-0.10406334 -0.59961432]\n",
      " [-0.26448096 -0.80845418]]\n"
     ]
    }
   ],
   "source": [
    "print('year 1 battles:',  year_1[0:3])\n",
    "print('year 2 battles:', year_2[0:3])\n",
    "print('year 3 battles:', year_3[0:3])"
   ]
  },
  {
   "cell_type": "markdown",
   "metadata": {},
   "source": [
    "### Pool all three years of coordinates"
   ]
  },
  {
   "cell_type": "code",
   "execution_count": 4,
   "metadata": {
    "collapsed": false
   },
   "outputs": [],
   "source": [
    "# vertically stack year_1, year_2, and year_3 elements\n",
    "battles = np.vstack([year_1, year_2, year_3])"
   ]
  },
  {
   "cell_type": "markdown",
   "metadata": {},
   "source": [
    "### Cluster the battle locations into three groups"
   ]
  },
  {
   "cell_type": "code",
   "execution_count": 5,
   "metadata": {
    "collapsed": false
   },
   "outputs": [],
   "source": [
    "# calculate the centroid coordinates of each cluster \n",
    "# and the variance of all the clusters\n",
    "centroids, variance  = vq.kmeans(battles, 3)"
   ]
  },
  {
   "cell_type": "markdown",
   "metadata": {},
   "source": [
    "### View the centroid coordinate for each of the three clusters"
   ]
  },
  {
   "cell_type": "code",
   "execution_count": 6,
   "metadata": {
    "collapsed": false
   },
   "outputs": [
    {
     "data": {
      "text/plain": [
       "array([[ 5.06106139,  5.07974653],\n",
       "       [-4.63308461, -5.0157216 ],\n",
       "       [ 0.01966072, -0.25837585]])"
      ]
     },
     "execution_count": 6,
     "metadata": {},
     "output_type": "execute_result"
    }
   ],
   "source": [
    "centroids"
   ]
  },
  {
   "cell_type": "markdown",
   "metadata": {},
   "source": [
    "### View the variance of the clusters (they all share the same)"
   ]
  },
  {
   "cell_type": "code",
   "execution_count": 7,
   "metadata": {
    "collapsed": false
   },
   "outputs": [
    {
     "data": {
      "text/plain": [
       "1.2204169218735219"
      ]
     },
     "execution_count": 7,
     "metadata": {},
     "output_type": "execute_result"
    }
   ],
   "source": [
    "variance"
   ]
  },
  {
   "cell_type": "markdown",
   "metadata": {},
   "source": [
    "### Seperate the battle data into clusters"
   ]
  },
  {
   "cell_type": "code",
   "execution_count": 8,
   "metadata": {
    "collapsed": false
   },
   "outputs": [],
   "source": [
    "identified, distance = vq.vq(battles, centroids)"
   ]
  },
  {
   "cell_type": "markdown",
   "metadata": {},
   "source": [
    "### View the cluster of each battle"
   ]
  },
  {
   "cell_type": "code",
   "execution_count": 9,
   "metadata": {
    "collapsed": false
   },
   "outputs": [
    {
     "data": {
      "text/plain": [
       "array([0, 0, 0, 0, 0, 0, 0, 0, 0, 0, 0, 0, 0, 0, 0, 0, 0, 0, 0, 0, 0, 0, 0,\n",
       "       0, 0, 0, 0, 0, 0, 0, 0, 0, 0, 0, 0, 0, 0, 0, 0, 0, 0, 0, 0, 0, 0, 0,\n",
       "       0, 0, 0, 0, 0, 0, 0, 0, 0, 0, 0, 0, 0, 0, 0, 0, 0, 0, 0, 0, 0, 0, 0,\n",
       "       0, 0, 0, 0, 0, 0, 0, 0, 0, 0, 0, 0, 0, 0, 0, 0, 0, 0, 0, 0, 0, 0, 0,\n",
       "       0, 0, 0, 0, 0, 0, 0, 0, 1, 1, 1, 1, 1, 1, 1, 1, 1, 1, 1, 1, 1, 1, 1,\n",
       "       1, 1, 1, 1, 1, 1, 1, 1, 1, 1, 1, 1, 1, 1, 1, 2, 2, 2, 2, 2, 2, 2, 2,\n",
       "       2, 2, 2, 2, 2, 2, 2, 2, 2, 2, 2, 2, 2, 2, 2, 2, 2, 2, 2, 2, 2, 2, 2,\n",
       "       2, 2, 2, 2, 2, 2, 2, 2, 2, 2, 2, 2, 2, 2, 2, 2, 2, 2, 2], dtype=int32)"
      ]
     },
     "execution_count": 9,
     "metadata": {},
     "output_type": "execute_result"
    }
   ],
   "source": [
    "identified"
   ]
  },
  {
   "cell_type": "markdown",
   "metadata": {},
   "source": [
    "### View the distance of each individual battle from their cluster's centroid"
   ]
  },
  {
   "cell_type": "code",
   "execution_count": 10,
   "metadata": {
    "collapsed": false
   },
   "outputs": [
    {
     "data": {
      "text/plain": [
       "array([ 1.38480183,  1.66945052,  1.03722455,  1.21212   ,  1.6695017 ,\n",
       "        1.30921163,  0.88929627,  0.66121354,  1.45330332,  1.86958026,\n",
       "        0.67824169,  1.29344485,  1.76116006,  0.29122983,  0.48733327,\n",
       "        3.05511794,  1.3422348 ,  1.1366469 ,  0.72789933,  1.32193985,\n",
       "        0.98981953,  1.31165602,  1.65442271,  1.04584458,  2.21334989,\n",
       "        0.28800511,  1.68556437,  2.94426245,  2.18946378,  1.02607616,\n",
       "        2.004956  ,  1.12403431,  1.09340931,  1.25800747,  2.33099813,\n",
       "        1.85115537,  0.32576723,  2.24719283,  0.12581295,  0.92356431,\n",
       "        1.94418264,  0.99061521,  2.10954881,  2.05224572,  0.78905833,\n",
       "        0.66544023,  0.36209217,  1.87068037,  0.77653975,  2.14679774,\n",
       "        1.34732124,  1.15970485,  2.61953819,  1.72211786,  0.70757861,\n",
       "        0.78995221,  1.05255836,  0.42622463,  0.95837303,  2.29585379,\n",
       "        1.29360668,  2.33337742,  1.89247164,  1.55948919,  1.31145688,\n",
       "        1.83701843,  2.47628124,  1.64910102,  0.69883045,  1.07498973,\n",
       "        0.98915674,  1.87858979,  0.85319612,  0.65842126,  0.44631796,\n",
       "        1.62271987,  1.60735445,  1.03633787,  1.442072  ,  1.79585223,\n",
       "        0.40233538,  0.63017958,  0.39964617,  1.66168355,  0.74639985,\n",
       "        1.21793464,  1.69321541,  0.1650354 ,  0.93156501,  0.31721527,\n",
       "        1.40181151,  0.90256571,  1.37464329,  1.20477588,  0.28788766,\n",
       "        0.04873925,  0.96647755,  1.31224866,  0.48479397,  0.3368776 ,\n",
       "        1.43854516,  1.45582649,  1.25908947,  1.05035836,  1.5897314 ,\n",
       "        0.81278842,  1.29588369,  0.91818198,  1.00914728,  0.65579867,\n",
       "        0.84409449,  1.48723566,  1.38707067,  1.0525708 ,  0.65826733,\n",
       "        1.19161357,  0.32450205,  0.51960469,  1.67956109,  1.04743722,\n",
       "        1.38161506,  0.54312629,  0.72702707,  1.12941675,  1.58985983,\n",
       "        1.06428262,  1.42184969,  0.63030102,  1.7140622 ,  0.6609101 ,\n",
       "        0.94153588,  0.36297567,  0.61913057,  0.24717355,  1.25247349,\n",
       "        1.28711238,  0.91626456,  1.140396  ,  0.08687722,  1.63834978,\n",
       "        1.28410241,  1.20391605,  1.68493583,  0.71381067,  2.24445132,\n",
       "        0.54822434,  1.85892782,  0.84573546,  1.8870073 ,  0.96140866,\n",
       "        0.66601343,  1.11117763,  0.48093249,  2.01321358,  1.93655703,\n",
       "        0.25089927,  0.89197353,  2.50264542,  1.18883979,  1.02552548,\n",
       "        0.3014976 ,  0.90837336,  1.57605467,  2.19381693,  1.55091942,\n",
       "        1.38656522,  1.30986749,  1.30458394,  1.15527141,  1.40452961,\n",
       "        1.18833059,  2.63481031,  0.99239939,  0.58223601,  2.36675839,\n",
       "        2.26408809,  0.4440083 ,  2.7360109 ,  0.77762245,  0.65154544])"
      ]
     },
     "execution_count": 10,
     "metadata": {},
     "output_type": "execute_result"
    }
   ],
   "source": [
    "distance"
   ]
  },
  {
   "cell_type": "markdown",
   "metadata": {},
   "source": [
    "### Index the battles data by the cluster to which they belong"
   ]
  },
  {
   "cell_type": "code",
   "execution_count": 11,
   "metadata": {
    "collapsed": false
   },
   "outputs": [],
   "source": [
    "cluster_1 = battles[identified == 0]\n",
    "cluster_2 = battles[identified == 1]\n",
    "cluster_3 = battles[identified == 2]"
   ]
  },
  {
   "cell_type": "markdown",
   "metadata": {},
   "source": [
    "### Print the first three coordinate pairs of each cluster"
   ]
  },
  {
   "cell_type": "code",
   "execution_count": 12,
   "metadata": {
    "collapsed": false
   },
   "outputs": [
    {
     "name": "stdout",
     "output_type": "stream",
     "text": [
      "[[ 6.444647    5.02172115]\n",
      " [ 3.69377452  4.12183648]\n",
      " [ 5.79694539  5.81071131]]\n",
      "[[-5.53434906 -3.89450148]\n",
      " [-6.07183872 -5.23802176]\n",
      " [-4.38233498 -3.78185333]]\n",
      "[[-0.55336652 -1.00545656]\n",
      " [-0.10406334 -0.59961432]\n",
      " [-0.26448096 -0.80845418]]\n"
     ]
    }
   ],
   "source": [
    "print(cluster_1[0:3])\n",
    "print(cluster_2[0:3])\n",
    "print(cluster_3[0:3])"
   ]
  },
  {
   "cell_type": "markdown",
   "metadata": {},
   "source": [
    "### Plot all the battles, color each battle by cluster"
   ]
  },
  {
   "cell_type": "code",
   "execution_count": 13,
   "metadata": {
    "collapsed": false
   },
   "outputs": [
    {
     "data": {
      "text/plain": [
       "<matplotlib.collections.PathCollection at 0x10ceff6d8>"
      ]
     },
     "execution_count": 13,
     "metadata": {},
     "output_type": "execute_result"
    },
    {
     "data": {
      "image/png": "[encoded data removed]",
      "text/plain": [
       "<matplotlib.figure.Figure at 0x10ab50940>"
      ]
     },
     "metadata": {},
     "output_type": "display_data"
    }
   ],
   "source": [
    "# create a scatter plot there the x-axis is the first column of battles\n",
    "# the y-axis is the second column of battles, the size is 100, and\n",
    "# the color of each point is determined by the indentified variable\n",
    "plt.scatter(battles[:,0], battles[:,1], s=100, c=identified)"
   ]
  }
 ],
 "metadata": {
  "kernelspec": {
   "display_name": "Python 3",
   "language": "python",
   "name": "python3"
  },
  "language_info": {
   "codemirror_mode": {
    "name": "ipython",
    "version": 3
   },
   "file_extension": ".py",
   "mimetype": "text/x-python",
   "name": "python",
   "nbconvert_exporter": "python",
   "pygments_lexer": "ipython3",
   "version": "3.5.1"
  }
 },
 "nbformat": 4,
 "nbformat_minor": 0
}
