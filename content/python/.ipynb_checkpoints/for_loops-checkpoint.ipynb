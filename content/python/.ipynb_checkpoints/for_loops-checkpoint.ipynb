{
 "cells": [
  {
   "cell_type": "markdown",
   "metadata": {},
   "source": [
    "Title: For Loop  \n",
    "Slug: for_loops  \n",
    "Summary: For Loop  \n",
    "Date: 2016-05-01 12:00  \n",
    "Category: Python  \n",
    "Tags: Basics  \n",
    "Authors: Chris Albon  \n",
    "\n",
    "The for loop iterates over each item in a sequences."
   ]
  },
  {
   "cell_type": "code",
   "execution_count": 2,
   "metadata": {
    "collapsed": false
   },
   "outputs": [
    {
     "name": "stdout",
     "output_type": "stream",
     "text": [
      "4320\n",
      "3420\n",
      "9280\n",
      "9200\n",
      "All done!\n"
     ]
    }
   ],
   "source": [
    "# One at a time, assign each value of the sequence to i and,\n",
    "for i in [432, 342, 928, 920]:\n",
    "    # multiply i by 10 and store the product in a new variable, x create a new variable, x,\n",
    "    x = i * 10\n",
    "    # print the value of x\n",
    "    print(x)\n",
    "# after the entire sequence has been processes,\n",
    "else:\n",
    "    # print this\n",
    "    print('All done!')"
   ]
  }
 ],
 "metadata": {
  "kernelspec": {
   "display_name": "Python 3",
   "language": "python",
   "name": "python3"
  },
  "language_info": {
   "codemirror_mode": {
    "name": "ipython",
    "version": 3
   },
   "file_extension": ".py",
   "mimetype": "text/x-python",
   "name": "python",
   "nbconvert_exporter": "python",
   "pygments_lexer": "ipython3",
   "version": "3.5.1"
  }
 },
 "nbformat": 4,
 "nbformat_minor": 0
}
