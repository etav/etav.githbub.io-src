{
 "cells": [
  {
   "cell_type": "markdown",
   "metadata": {},
   "source": [
    "Title: All Combinations For A List Of Objects  \n",
    "Slug: all_combinations_of_a_list_of_objects  \n",
    "Summary: All Combinations For A List Of Objects  \n",
    "Date: 2016-05-01 12:00  \n",
    "Category: Python  \n",
    "Tags: Basics  \n",
    "Authors: Chris Albon  "
   ]
  },
  {
   "cell_type": "markdown",
   "metadata": {},
   "source": [
    "## Preliminary"
   ]
  },
  {
   "cell_type": "code",
   "execution_count": 1,
   "metadata": {
    "collapsed": false
   },
   "outputs": [],
   "source": [
    "# Import combinations with replacements from itertools\n",
    "from itertools import combinations_with_replacement"
   ]
  },
  {
   "cell_type": "markdown",
   "metadata": {},
   "source": [
    "## Create a list of objects"
   ]
  },
  {
   "cell_type": "code",
   "execution_count": 2,
   "metadata": {
    "collapsed": true
   },
   "outputs": [],
   "source": [
    "# Create a list of objects to combine\n",
    "list_of_objects = ['warplanes', 'armor', 'infantry']"
   ]
  },
  {
   "cell_type": "markdown",
   "metadata": {},
   "source": [
    "## Find all combinations (with replacement) for the list"
   ]
  },
  {
   "cell_type": "code",
   "execution_count": 3,
   "metadata": {
    "collapsed": false
   },
   "outputs": [
    {
     "data": {
      "text/plain": [
       "[[('warplanes',), ('armor',), ('infantry',)],\n",
       " [('warplanes', 'warplanes'),\n",
       "  ('warplanes', 'armor'),\n",
       "  ('warplanes', 'infantry'),\n",
       "  ('armor', 'armor'),\n",
       "  ('armor', 'infantry'),\n",
       "  ('infantry', 'infantry')],\n",
       " [('warplanes', 'warplanes', 'warplanes'),\n",
       "  ('warplanes', 'warplanes', 'armor'),\n",
       "  ('warplanes', 'warplanes', 'infantry'),\n",
       "  ('warplanes', 'armor', 'armor'),\n",
       "  ('warplanes', 'armor', 'infantry'),\n",
       "  ('warplanes', 'infantry', 'infantry'),\n",
       "  ('armor', 'armor', 'armor'),\n",
       "  ('armor', 'armor', 'infantry'),\n",
       "  ('armor', 'infantry', 'infantry'),\n",
       "  ('infantry', 'infantry', 'infantry')]]"
      ]
     },
     "execution_count": 3,
     "metadata": {},
     "output_type": "execute_result"
    }
   ],
   "source": [
    "# Create an empty list object to hold the results of the loop\n",
    "combinations = []\n",
    "\n",
    "# Create a loop for every item in the length of list_of_objects, that,\n",
    "for i in list(range(len(list_of_objects))):\n",
    "    # Finds every combination (with replacement) for each object in the list\n",
    "    combinations.append(list(combinations_with_replacement(list_of_objects, i+1)))\n",
    "    \n",
    "# View the results\n",
    "combinations"
   ]
  },
  {
   "cell_type": "code",
   "execution_count": 4,
   "metadata": {
    "collapsed": false
   },
   "outputs": [
    {
     "data": {
      "text/plain": [
       "[('warplanes',),\n",
       " ('armor',),\n",
       " ('infantry',),\n",
       " ('warplanes', 'warplanes'),\n",
       " ('warplanes', 'armor'),\n",
       " ('warplanes', 'infantry'),\n",
       " ('armor', 'armor'),\n",
       " ('armor', 'infantry'),\n",
       " ('infantry', 'infantry'),\n",
       " ('warplanes', 'warplanes', 'warplanes'),\n",
       " ('warplanes', 'warplanes', 'armor'),\n",
       " ('warplanes', 'warplanes', 'infantry'),\n",
       " ('warplanes', 'armor', 'armor'),\n",
       " ('warplanes', 'armor', 'infantry'),\n",
       " ('warplanes', 'infantry', 'infantry'),\n",
       " ('armor', 'armor', 'armor'),\n",
       " ('armor', 'armor', 'infantry'),\n",
       " ('armor', 'infantry', 'infantry'),\n",
       " ('infantry', 'infantry', 'infantry')]"
      ]
     },
     "execution_count": 4,
     "metadata": {},
     "output_type": "execute_result"
    }
   ],
   "source": [
    "# Flatten the list of lists into just a list\n",
    "combinations = [i for row in combinations for i in row]\n",
    "\n",
    "# View the results\n",
    "combinations"
   ]
  }
 ],
 "metadata": {
  "kernelspec": {
   "display_name": "Python 3",
   "language": "python",
   "name": "python3"
  },
  "language_info": {
   "codemirror_mode": {
    "name": "ipython",
    "version": 3
   },
   "file_extension": ".py",
   "mimetype": "text/x-python",
   "name": "python",
   "nbconvert_exporter": "python",
   "pygments_lexer": "ipython3",
   "version": "3.5.1"
  }
 },
 "nbformat": 4,
 "nbformat_minor": 0
}
