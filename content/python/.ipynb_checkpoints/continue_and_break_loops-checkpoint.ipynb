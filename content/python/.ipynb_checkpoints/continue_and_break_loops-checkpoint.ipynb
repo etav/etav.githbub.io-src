{
 "cells": [
  {
   "cell_type": "markdown",
   "metadata": {},
   "source": [
    "Title: Continue And Break Loops  \n",
    "Slug: continue_and_break_loops  \n",
    "Summary: Continue And Break Loops  \n",
    "Date: 2016-05-01 12:00  \n",
    "Category: Python  \n",
    "Tags: Basics  \n",
    "Authors: Chris Albon "
   ]
  },
  {
   "cell_type": "markdown",
   "metadata": {},
   "source": [
    "### Import the random module"
   ]
  },
  {
   "cell_type": "code",
   "execution_count": 10,
   "metadata": {
    "collapsed": false
   },
   "outputs": [],
   "source": [
    "import random"
   ]
  },
  {
   "cell_type": "markdown",
   "metadata": {},
   "source": [
    "### Create a while loop"
   ]
  },
  {
   "cell_type": "code",
   "execution_count": 11,
   "metadata": {
    "collapsed": false
   },
   "outputs": [],
   "source": [
    "# set running to true\n",
    "running = True"
   ]
  },
  {
   "cell_type": "code",
   "execution_count": 12,
   "metadata": {
    "collapsed": false
   },
   "outputs": [
    {
     "name": "stdout",
     "output_type": "stream",
     "text": [
      "It is too small, starting over.\n",
      "It is too small, starting over.\n",
      "It is too small, starting over.\n",
      "It is 5! Breaking Loop!\n"
     ]
    }
   ],
   "source": [
    "# while running is true\n",
    "while running:\n",
    "    # Create a random integer between 0 and 5\n",
    "    s = random.randint(0,5)\n",
    "    # If the integer is less than 3\n",
    "    if s < 3:\n",
    "        # Print this\n",
    "        print('It is too small, starting over.')\n",
    "        # Reset the next interation of the loop\n",
    "        # (i.e skip everything below and restart from the top)\n",
    "        continue\n",
    "    # If the integer is 4\n",
    "    if s == 4:\n",
    "        running = False\n",
    "        # Print this\n",
    "        print('It is 4! Changing running to false')\n",
    "    # If the integer is 5,\n",
    "    if s == 5:\n",
    "        # Print this\n",
    "        print('It is 5! Breaking Loop!')\n",
    "        # then stop the loop\n",
    "        break"
   ]
  }
 ],
 "metadata": {
  "anaconda-cloud": {},
  "kernelspec": {
   "display_name": "Python [default]",
   "language": "python",
   "name": "python3"
  },
  "language_info": {
   "codemirror_mode": {
    "name": "ipython",
    "version": 3
   },
   "file_extension": ".py",
   "mimetype": "text/x-python",
   "name": "python",
   "nbconvert_exporter": "python",
   "pygments_lexer": "ipython3",
   "version": "3.5.2"
  }
 },
 "nbformat": 4,
 "nbformat_minor": 0
}
