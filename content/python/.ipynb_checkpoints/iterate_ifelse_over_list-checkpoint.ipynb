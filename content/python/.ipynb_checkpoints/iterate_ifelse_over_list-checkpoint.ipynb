{
 "cells": [
  {
   "cell_type": "markdown",
   "metadata": {},
   "source": [
    "Title: Iterate An Ifelse Over A List  \n",
    "Slug: iterate_ifelse_over_list  \n",
    "Summary: Iterate An Ifelse Over A List  \n",
    "Date: 2016-05-01 12:00  \n",
    "Category: Python  \n",
    "Tags: Basics  \n",
    "Authors: Chris Albon  "
   ]
  },
  {
   "cell_type": "markdown",
   "metadata": {},
   "source": [
    "## Create some data"
   ]
  },
  {
   "cell_type": "code",
   "execution_count": 1,
   "metadata": {
    "collapsed": false
   },
   "outputs": [],
   "source": [
    "word_list = ['Egypt', 'Watching', 'Eleanor']\n",
    "\n",
    "vowels = ['A', 'E', 'I', 'O', 'U']"
   ]
  },
  {
   "cell_type": "markdown",
   "metadata": {},
   "source": [
    "## Create a for loop"
   ]
  },
  {
   "cell_type": "code",
   "execution_count": 2,
   "metadata": {
    "collapsed": false
   },
   "outputs": [
    {
     "name": "stdout",
     "output_type": "stream",
     "text": [
      "Is valid\n",
      "Invalid\n",
      "Is valid\n"
     ]
    }
   ],
   "source": [
    "# for each item in the word_list,\n",
    "for word in word_list:\n",
    "    # if any word starts with e, where e is vowels,\n",
    "    if any([word.startswith(e) for e in vowels]):\n",
    "        # then print is valid,\n",
    "        print('Is valid')\n",
    "    # if not,    \n",
    "    else:\n",
    "        # print invalid\n",
    "        print('Invalid')"
   ]
  }
 ],
 "metadata": {
  "kernelspec": {
   "display_name": "Python 3",
   "language": "python",
   "name": "python3"
  },
  "language_info": {
   "codemirror_mode": {
    "name": "ipython",
    "version": 3
   },
   "file_extension": ".py",
   "mimetype": "text/x-python",
   "name": "python",
   "nbconvert_exporter": "python",
   "pygments_lexer": "ipython3",
   "version": "3.5.1"
  }
 },
 "nbformat": 4,
 "nbformat_minor": 0
}
