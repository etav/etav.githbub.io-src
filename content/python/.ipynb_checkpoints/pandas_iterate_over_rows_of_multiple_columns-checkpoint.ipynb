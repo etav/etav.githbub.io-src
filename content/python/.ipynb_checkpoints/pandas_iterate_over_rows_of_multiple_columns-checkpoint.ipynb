{
 "cells": [
  {
   "cell_type": "markdown",
   "metadata": {},
   "source": [
    "Title: Iterating Through The Rows Of Multiple Columns In Pandas  \n",
    "Slug: pandas_iterate_over_rows_of_multiple_columns  \n",
    "Summary: Iterating Through The Rows Of Multiple Columns In Pandas  \n",
    "Date: 2016-05-01 12:00  \n",
    "Category: Python  \n",
    "Tags: Data Wrangling  \n",
    "Authors: Chris Albon  "
   ]
  },
  {
   "cell_type": "code",
   "execution_count": 8,
   "metadata": {
    "collapsed": false
   },
   "outputs": [],
   "source": [
    "# Import modules\n",
    "import pandas as pd\n",
    "import numpy as np"
   ]
  },
  {
   "cell_type": "code",
   "execution_count": 9,
   "metadata": {
    "collapsed": false
   },
   "outputs": [
    {
     "data": {
      "text/html": [
       "<div style=\"max-height:1000px;max-width:1500px;overflow:auto;\">\n",
       "<table border=\"1\" class=\"dataframe\">\n",
       "  <thead>\n",
       "    <tr style=\"text-align: right;\">\n",
       "      <th></th>\n",
       "      <th>first_name</th>\n",
       "      <th>last_name</th>\n",
       "      <th>age</th>\n",
       "      <th>preTestScore</th>\n",
       "      <th>postTestScore</th>\n",
       "    </tr>\n",
       "  </thead>\n",
       "  <tbody>\n",
       "    <tr>\n",
       "      <th>0</th>\n",
       "      <td> Jason</td>\n",
       "      <td> Miller</td>\n",
       "      <td> 42</td>\n",
       "      <td>  4</td>\n",
       "      <td> 25</td>\n",
       "    </tr>\n",
       "    <tr>\n",
       "      <th>1</th>\n",
       "      <td> Jason</td>\n",
       "      <td> Miller</td>\n",
       "      <td> 42</td>\n",
       "      <td>  4</td>\n",
       "      <td> 25</td>\n",
       "    </tr>\n",
       "    <tr>\n",
       "      <th>2</th>\n",
       "      <td>  Tina</td>\n",
       "      <td>    Ali</td>\n",
       "      <td> 36</td>\n",
       "      <td> 31</td>\n",
       "      <td> 57</td>\n",
       "    </tr>\n",
       "    <tr>\n",
       "      <th>3</th>\n",
       "      <td>  Jake</td>\n",
       "      <td> Milner</td>\n",
       "      <td> 24</td>\n",
       "      <td>  2</td>\n",
       "      <td> 62</td>\n",
       "    </tr>\n",
       "    <tr>\n",
       "      <th>4</th>\n",
       "      <td>   Amy</td>\n",
       "      <td>  Cooze</td>\n",
       "      <td> 73</td>\n",
       "      <td>  3</td>\n",
       "      <td> 70</td>\n",
       "    </tr>\n",
       "  </tbody>\n",
       "</table>\n",
       "</div>"
      ],
      "text/plain": [
       "  first_name last_name  age  preTestScore  postTestScore\n",
       "0      Jason    Miller   42             4             25\n",
       "1      Jason    Miller   42             4             25\n",
       "2       Tina       Ali   36            31             57\n",
       "3       Jake    Milner   24             2             62\n",
       "4        Amy     Cooze   73             3             70"
      ]
     },
     "execution_count": 9,
     "metadata": {},
     "output_type": "execute_result"
    }
   ],
   "source": [
    "raw_data = {'first_name': ['Jason', 'Jason', 'Tina', 'Jake', 'Amy'], \n",
    "        'last_name': ['Miller', 'Miller', 'Ali', 'Milner', 'Cooze'], \n",
    "        'age': [42, 42, 36, 24, 73], \n",
    "        'preTestScore': [4, 4, 31, 2, 3],\n",
    "        'postTestScore': [25, 25, 57, 62, 70]}\n",
    "df = pd.DataFrame(raw_data, columns = ['first_name', 'last_name', 'age', 'preTestScore', 'postTestScore'])\n",
    "df"
   ]
  },
  {
   "cell_type": "markdown",
   "metadata": {},
   "source": [
    "## Iterate Over The Rows Of Two Columns"
   ]
  },
  {
   "cell_type": "code",
   "execution_count": 27,
   "metadata": {
    "collapsed": false
   },
   "outputs": [],
   "source": [
    "# Create an empty column for the full names\n",
    "df['full_name'] = np.NaN\n",
    "\n",
    "# Create an iteration counter\n",
    "i = 0\n",
    "\n",
    "# For each element in first_name and last_name,\n",
    "for first, last in zip(df['first_name'], df['last_name']):\n",
    "    # Change the value of the i'th row in full_name \n",
    "    # to the combination of the first and last name\n",
    "    df['full_name'][i] = first + ' ' + last\n",
    "    \n",
    "    # Add one to the iteration counter\n",
    "    i = i+1"
   ]
  },
  {
   "cell_type": "code",
   "execution_count": 28,
   "metadata": {
    "collapsed": false
   },
   "outputs": [
    {
     "data": {
      "text/html": [
       "<div style=\"max-height:1000px;max-width:1500px;overflow:auto;\">\n",
       "<table border=\"1\" class=\"dataframe\">\n",
       "  <thead>\n",
       "    <tr style=\"text-align: right;\">\n",
       "      <th></th>\n",
       "      <th>first_name</th>\n",
       "      <th>last_name</th>\n",
       "      <th>age</th>\n",
       "      <th>preTestScore</th>\n",
       "      <th>postTestScore</th>\n",
       "      <th>full_name</th>\n",
       "    </tr>\n",
       "  </thead>\n",
       "  <tbody>\n",
       "    <tr>\n",
       "      <th>0</th>\n",
       "      <td> Jason</td>\n",
       "      <td> Miller</td>\n",
       "      <td> 42</td>\n",
       "      <td>  4</td>\n",
       "      <td> 25</td>\n",
       "      <td> Jason Miller</td>\n",
       "    </tr>\n",
       "    <tr>\n",
       "      <th>1</th>\n",
       "      <td> Jason</td>\n",
       "      <td> Miller</td>\n",
       "      <td> 42</td>\n",
       "      <td>  4</td>\n",
       "      <td> 25</td>\n",
       "      <td> Jason Miller</td>\n",
       "    </tr>\n",
       "    <tr>\n",
       "      <th>2</th>\n",
       "      <td>  Tina</td>\n",
       "      <td>    Ali</td>\n",
       "      <td> 36</td>\n",
       "      <td> 31</td>\n",
       "      <td> 57</td>\n",
       "      <td>     Tina Ali</td>\n",
       "    </tr>\n",
       "    <tr>\n",
       "      <th>3</th>\n",
       "      <td>  Jake</td>\n",
       "      <td> Milner</td>\n",
       "      <td> 24</td>\n",
       "      <td>  2</td>\n",
       "      <td> 62</td>\n",
       "      <td>  Jake Milner</td>\n",
       "    </tr>\n",
       "    <tr>\n",
       "      <th>4</th>\n",
       "      <td>   Amy</td>\n",
       "      <td>  Cooze</td>\n",
       "      <td> 73</td>\n",
       "      <td>  3</td>\n",
       "      <td> 70</td>\n",
       "      <td>    Amy Cooze</td>\n",
       "    </tr>\n",
       "  </tbody>\n",
       "</table>\n",
       "</div>"
      ],
      "text/plain": [
       "  first_name last_name  age  preTestScore  postTestScore     full_name\n",
       "0      Jason    Miller   42             4             25  Jason Miller\n",
       "1      Jason    Miller   42             4             25  Jason Miller\n",
       "2       Tina       Ali   36            31             57      Tina Ali\n",
       "3       Jake    Milner   24             2             62   Jake Milner\n",
       "4        Amy     Cooze   73             3             70     Amy Cooze"
      ]
     },
     "execution_count": 28,
     "metadata": {},
     "output_type": "execute_result"
    }
   ],
   "source": [
    "# View the dataframe\n",
    "df"
   ]
  }
 ],
 "metadata": {
  "kernelspec": {
   "display_name": "Python 3",
   "language": "python",
   "name": "python3"
  },
  "language_info": {
   "codemirror_mode": {
    "name": "ipython",
    "version": 3
   },
   "file_extension": ".py",
   "mimetype": "text/x-python",
   "name": "python",
   "nbconvert_exporter": "python",
   "pygments_lexer": "ipython3",
   "version": "3.5.1"
  }
 },
 "nbformat": 4,
 "nbformat_minor": 0
}
