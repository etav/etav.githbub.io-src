{
 "cells": [
  {
   "cell_type": "markdown",
   "metadata": {},
   "source": [
    "Title: Sample Rows Of A Dataframe In Pandas  \n",
    "Slug: pandas_sample_dataframe  \n",
    "Summary: Sample Rows Of A Dataframe In Pandas  \n",
    "Date: 2016-05-01 12:00  \n",
    "Category: Python  \n",
    "Tags: Data Wrangling  \n",
    "Authors: Chris Albon  "
   ]
  },
  {
   "cell_type": "markdown",
   "metadata": {},
   "source": [
    "### Import required modules"
   ]
  },
  {
   "cell_type": "code",
   "execution_count": 8,
   "metadata": {
    "collapsed": false
   },
   "outputs": [],
   "source": [
    "import pandas as pd\n",
    "import numpy as np"
   ]
  },
  {
   "cell_type": "markdown",
   "metadata": {},
   "source": [
    "### Create a dataframe of test scores"
   ]
  },
  {
   "cell_type": "code",
   "execution_count": 9,
   "metadata": {
    "collapsed": false
   },
   "outputs": [],
   "source": [
    "df = pd.DataFrame(np.random.randn(100, 4), columns=['test1_score', 'test2_score' ,'test3_score' ,'test4_score'])"
   ]
  },
  {
   "cell_type": "markdown",
   "metadata": {},
   "source": [
    "### View the top five rows"
   ]
  },
  {
   "cell_type": "code",
   "execution_count": 10,
   "metadata": {
    "collapsed": false
   },
   "outputs": [
    {
     "data": {
      "text/html": [
       "<div>\n",
       "<table border=\"1\" class=\"dataframe\">\n",
       "  <thead>\n",
       "    <tr style=\"text-align: right;\">\n",
       "      <th></th>\n",
       "      <th>test1_score</th>\n",
       "      <th>test2_score</th>\n",
       "      <th>test3_score</th>\n",
       "      <th>test4_score</th>\n",
       "    </tr>\n",
       "  </thead>\n",
       "  <tbody>\n",
       "    <tr>\n",
       "      <th>0</th>\n",
       "      <td>0.169695</td>\n",
       "      <td>0.731334</td>\n",
       "      <td>-1.568182</td>\n",
       "      <td>0.260256</td>\n",
       "    </tr>\n",
       "    <tr>\n",
       "      <th>1</th>\n",
       "      <td>0.907639</td>\n",
       "      <td>0.623408</td>\n",
       "      <td>-1.910227</td>\n",
       "      <td>-1.409663</td>\n",
       "    </tr>\n",
       "    <tr>\n",
       "      <th>2</th>\n",
       "      <td>1.188537</td>\n",
       "      <td>1.243194</td>\n",
       "      <td>-0.851900</td>\n",
       "      <td>1.189246</td>\n",
       "    </tr>\n",
       "    <tr>\n",
       "      <th>3</th>\n",
       "      <td>-0.559318</td>\n",
       "      <td>0.009752</td>\n",
       "      <td>-0.758289</td>\n",
       "      <td>0.380373</td>\n",
       "    </tr>\n",
       "    <tr>\n",
       "      <th>4</th>\n",
       "      <td>1.361715</td>\n",
       "      <td>0.956144</td>\n",
       "      <td>-0.497902</td>\n",
       "      <td>-0.842736</td>\n",
       "    </tr>\n",
       "  </tbody>\n",
       "</table>\n",
       "</div>"
      ],
      "text/plain": [
       "   test1_score  test2_score  test3_score  test4_score\n",
       "0     0.169695     0.731334    -1.568182     0.260256\n",
       "1     0.907639     0.623408    -1.910227    -1.409663\n",
       "2     1.188537     1.243194    -0.851900     1.189246\n",
       "3    -0.559318     0.009752    -0.758289     0.380373\n",
       "4     1.361715     0.956144    -0.497902    -0.842736"
      ]
     },
     "execution_count": 10,
     "metadata": {},
     "output_type": "execute_result"
    }
   ],
   "source": [
    "df.head()"
   ]
  },
  {
   "cell_type": "markdown",
   "metadata": {},
   "source": [
    "### Length of the dataframe"
   ]
  },
  {
   "cell_type": "code",
   "execution_count": 11,
   "metadata": {
    "collapsed": false
   },
   "outputs": [
    {
     "name": "stdout",
     "output_type": "stream",
     "text": [
      "100\n"
     ]
    }
   ],
   "source": [
    "print(len(df))"
   ]
  },
  {
   "cell_type": "markdown",
   "metadata": {},
   "source": [
    "### Randomly choose 10 rows"
   ]
  },
  {
   "cell_type": "code",
   "execution_count": 12,
   "metadata": {
    "collapsed": false
   },
   "outputs": [],
   "source": [
    "rows = np.random.choice(df.index.values, 10)"
   ]
  },
  {
   "cell_type": "markdown",
   "metadata": {},
   "source": [
    "### Convert it into a dataframe"
   ]
  },
  {
   "cell_type": "code",
   "execution_count": 13,
   "metadata": {
    "collapsed": false
   },
   "outputs": [],
   "source": [
    "sampled_df = df.ix[rows]"
   ]
  },
  {
   "cell_type": "markdown",
   "metadata": {},
   "source": [
    "### View the dataframe"
   ]
  },
  {
   "cell_type": "code",
   "execution_count": 14,
   "metadata": {
    "collapsed": false
   },
   "outputs": [
    {
     "data": {
      "text/html": [
       "<div>\n",
       "<table border=\"1\" class=\"dataframe\">\n",
       "  <thead>\n",
       "    <tr style=\"text-align: right;\">\n",
       "      <th></th>\n",
       "      <th>test1_score</th>\n",
       "      <th>test2_score</th>\n",
       "      <th>test3_score</th>\n",
       "      <th>test4_score</th>\n",
       "    </tr>\n",
       "  </thead>\n",
       "  <tbody>\n",
       "    <tr>\n",
       "      <th>58</th>\n",
       "      <td>0.713172</td>\n",
       "      <td>-1.183712</td>\n",
       "      <td>1.502233</td>\n",
       "      <td>0.914484</td>\n",
       "    </tr>\n",
       "    <tr>\n",
       "      <th>43</th>\n",
       "      <td>-0.625603</td>\n",
       "      <td>1.459621</td>\n",
       "      <td>2.392166</td>\n",
       "      <td>-0.898704</td>\n",
       "    </tr>\n",
       "    <tr>\n",
       "      <th>18</th>\n",
       "      <td>-0.376406</td>\n",
       "      <td>-0.675413</td>\n",
       "      <td>0.086446</td>\n",
       "      <td>0.536000</td>\n",
       "    </tr>\n",
       "    <tr>\n",
       "      <th>43</th>\n",
       "      <td>-0.625603</td>\n",
       "      <td>1.459621</td>\n",
       "      <td>2.392166</td>\n",
       "      <td>-0.898704</td>\n",
       "    </tr>\n",
       "    <tr>\n",
       "      <th>63</th>\n",
       "      <td>0.720909</td>\n",
       "      <td>1.105502</td>\n",
       "      <td>0.362985</td>\n",
       "      <td>-0.802237</td>\n",
       "    </tr>\n",
       "    <tr>\n",
       "      <th>13</th>\n",
       "      <td>0.897701</td>\n",
       "      <td>-0.756819</td>\n",
       "      <td>1.108905</td>\n",
       "      <td>-0.508869</td>\n",
       "    </tr>\n",
       "    <tr>\n",
       "      <th>95</th>\n",
       "      <td>-0.691791</td>\n",
       "      <td>0.568755</td>\n",
       "      <td>0.659771</td>\n",
       "      <td>-1.633216</td>\n",
       "    </tr>\n",
       "    <tr>\n",
       "      <th>77</th>\n",
       "      <td>0.076233</td>\n",
       "      <td>-0.373928</td>\n",
       "      <td>1.230077</td>\n",
       "      <td>0.692801</td>\n",
       "    </tr>\n",
       "    <tr>\n",
       "      <th>74</th>\n",
       "      <td>0.083423</td>\n",
       "      <td>-0.643454</td>\n",
       "      <td>0.138123</td>\n",
       "      <td>1.168582</td>\n",
       "    </tr>\n",
       "    <tr>\n",
       "      <th>63</th>\n",
       "      <td>0.720909</td>\n",
       "      <td>1.105502</td>\n",
       "      <td>0.362985</td>\n",
       "      <td>-0.802237</td>\n",
       "    </tr>\n",
       "  </tbody>\n",
       "</table>\n",
       "</div>"
      ],
      "text/plain": [
       "    test1_score  test2_score  test3_score  test4_score\n",
       "58     0.713172    -1.183712     1.502233     0.914484\n",
       "43    -0.625603     1.459621     2.392166    -0.898704\n",
       "18    -0.376406    -0.675413     0.086446     0.536000\n",
       "43    -0.625603     1.459621     2.392166    -0.898704\n",
       "63     0.720909     1.105502     0.362985    -0.802237\n",
       "13     0.897701    -0.756819     1.108905    -0.508869\n",
       "95    -0.691791     0.568755     0.659771    -1.633216\n",
       "77     0.076233    -0.373928     1.230077     0.692801\n",
       "74     0.083423    -0.643454     0.138123     1.168582\n",
       "63     0.720909     1.105502     0.362985    -0.802237"
      ]
     },
     "execution_count": 14,
     "metadata": {},
     "output_type": "execute_result"
    }
   ],
   "source": [
    "sampled_df"
   ]
  }
 ],
 "metadata": {
  "kernelspec": {
   "display_name": "Python 3",
   "language": "python",
   "name": "python3"
  },
  "language_info": {
   "codemirror_mode": {
    "name": "ipython",
    "version": 3
   },
   "file_extension": ".py",
   "mimetype": "text/x-python",
   "name": "python",
   "nbconvert_exporter": "python",
   "pygments_lexer": "ipython3",
   "version": "3.5.1"
  }
 },
 "nbformat": 4,
 "nbformat_minor": 0
}
