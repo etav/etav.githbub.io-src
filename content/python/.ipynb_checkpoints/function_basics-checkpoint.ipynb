{
 "cells": [
  {
   "cell_type": "markdown",
   "metadata": {},
   "source": [
    "Title: Function Basics  \n",
    "Slug: function_basics  \n",
    "Summary: Function Basics   \n",
    "Date: 2016-05-01 12:00  \n",
    "Category: Python  \n",
    "Tags: Basics  \n",
    "Authors: Chris Albon  "
   ]
  },
  {
   "cell_type": "markdown",
   "metadata": {},
   "source": [
    "Based on [Byte of Python](http://python.swaroopch.com/)"
   ]
  },
  {
   "cell_type": "markdown",
   "metadata": {},
   "source": [
    "### Create a function called printMax with the paramaters x and y."
   ]
  },
  {
   "cell_type": "code",
   "execution_count": 1,
   "metadata": {
    "collapsed": false
   },
   "outputs": [
    {
     "name": "stdout",
     "output_type": "stream",
     "text": [
      "4 is maximum\n"
     ]
    }
   ],
   "source": [
    "def printMax(x, y):\n",
    "    # if a is larger than b\n",
    "    if x > y:\n",
    "        # then print this\n",
    "        print(x, 'is maximum')\n",
    "    # if a is equal to b\n",
    "    elif x == y:\n",
    "        # print this\n",
    "        print(x, 'is equal to', y)\n",
    "    # otherwise\n",
    "    else:\n",
    "        # print this\n",
    "        print(y, 'is maximum')"
   ]
  },
  {
   "cell_type": "markdown",
   "metadata": {},
   "source": [
    "### Run the function with two arguments"
   ]
  },
  {
   "cell_type": "code",
   "execution_count": 37,
   "metadata": {
    "collapsed": false
   },
   "outputs": [
    {
     "name": "stdout",
     "output_type": "stream",
     "text": [
      "4 is maximum\n"
     ]
    }
   ],
   "source": [
    "printMax(3,4)"
   ]
  },
  {
   "cell_type": "markdown",
   "metadata": {},
   "source": [
    "Note: By default, variables created within functions are local to the function. But you can create a global function that IS defined outside the function."
   ]
  },
  {
   "cell_type": "markdown",
   "metadata": {},
   "source": [
    "### Create a variable called x"
   ]
  },
  {
   "cell_type": "code",
   "execution_count": 2,
   "metadata": {
    "collapsed": false
   },
   "outputs": [],
   "source": [
    "x = 50"
   ]
  },
  {
   "cell_type": "markdown",
   "metadata": {},
   "source": [
    "### Create a function called func()"
   ]
  },
  {
   "cell_type": "code",
   "execution_count": 29,
   "metadata": {
    "collapsed": false
   },
   "outputs": [],
   "source": [
    "def func():\n",
    "    # Create a global variable called x\n",
    "    global x\n",
    "\n",
    "    # Print this\n",
    "    print('x is', x)\n",
    "    # Set x to 2.\n",
    "    x = 2\n",
    "    # Print this\n",
    "    print('Changed global x to', x)"
   ]
  },
  {
   "cell_type": "markdown",
   "metadata": {},
   "source": [
    "### Run the func() function"
   ]
  },
  {
   "cell_type": "code",
   "execution_count": 34,
   "metadata": {
    "collapsed": false
   },
   "outputs": [
    {
     "name": "stdout",
     "output_type": "stream",
     "text": [
      "x is 2\n",
      "Changed global x to 2\n"
     ]
    }
   ],
   "source": [
    "func()"
   ]
  },
  {
   "cell_type": "markdown",
   "metadata": {},
   "source": [
    "### Print x"
   ]
  },
  {
   "cell_type": "code",
   "execution_count": 35,
   "metadata": {
    "collapsed": false
   },
   "outputs": [
    {
     "data": {
      "text/plain": [
       "2"
      ]
     },
     "execution_count": 35,
     "metadata": {},
     "output_type": "execute_result"
    }
   ],
   "source": [
    "x"
   ]
  },
  {
   "cell_type": "markdown",
   "metadata": {},
   "source": [
    "## Default Argument Values"
   ]
  },
  {
   "cell_type": "markdown",
   "metadata": {},
   "source": [
    "### Create a function called say() that displays x with the default value of 1"
   ]
  },
  {
   "cell_type": "code",
   "execution_count": 19,
   "metadata": {
    "collapsed": false
   },
   "outputs": [
    {
     "name": "stdout",
     "output_type": "stream",
     "text": [
      "! !!!\n",
      "!!!!! !!!!!!!!!!\n"
     ]
    }
   ],
   "source": [
    "def say(x, times = 1, times2 = 3):\n",
    "    print(x * times, x * times2)\n",
    "\n",
    "# Run the function say() with the default values\n",
    "say('!')\n",
    "\n",
    "# Run the function say() with the non-default values of 5 and 10\n",
    "say('!', 5, 10)"
   ]
  },
  {
   "cell_type": "markdown",
   "metadata": {},
   "source": [
    "## VarArgs Parameters (i.e. unlimited number of parameters)\n",
    "- \\* denotes that all positonal arguments from that point to next arg are used\n",
    "- \\** dnotes that all keyword arguments from that point to the next arg are used"
   ]
  },
  {
   "cell_type": "markdown",
   "metadata": {},
   "source": [
    "### Create a function called total() with three parameters"
   ]
  },
  {
   "cell_type": "code",
   "execution_count": 25,
   "metadata": {
    "collapsed": false
   },
   "outputs": [],
   "source": [
    "def total(initial=5, *numbers, **keywords):\n",
    "    # Create a variable called count that takes it's value from initial\n",
    "    count = initial\n",
    "    # for each item in numbers\n",
    "    for number in numbers:\n",
    "        # add count to that number\n",
    "        count += number\n",
    "    # for each item in keywords\n",
    "    for key in keywords:\n",
    "        # add count to keyword's value\n",
    "        count += keywords[key]\n",
    "    # return counts\n",
    "    return count"
   ]
  },
  {
   "cell_type": "markdown",
   "metadata": {},
   "source": [
    "### Run total()\n",
    "- 10 is for initial.\n",
    "- 1,2,3 are for *numbers.\n",
    "- vegetables and fruit is for **keywords."
   ]
  },
  {
   "cell_type": "code",
   "execution_count": 28,
   "metadata": {
    "collapsed": false
   },
   "outputs": [
    {
     "data": {
      "text/plain": [
       "166"
      ]
     },
     "execution_count": 28,
     "metadata": {},
     "output_type": "execute_result"
    }
   ],
   "source": [
    "total(10, 1, 2, 3, vegetables=50, fruits=100)"
   ]
  },
  {
   "cell_type": "markdown",
   "metadata": {},
   "source": [
    "## DocStrings (outputs documentation about a function)"
   ]
  },
  {
   "cell_type": "markdown",
   "metadata": {},
   "source": [
    "### Create a function called printMax with the paramaters x and y"
   ]
  },
  {
   "cell_type": "code",
   "execution_count": 21,
   "metadata": {
    "collapsed": false
   },
   "outputs": [],
   "source": [
    "def printMax(x, y):\n",
    "    # Create the docstring\n",
    "    '''Prints out the maximum of two values'''\n",
    "    # if a is larger than b\n",
    "    if x > y:\n",
    "        # then print this\n",
    "        print(x, 'is maximum')\n",
    "    # if a is equal to b\n",
    "    elif x == y:\n",
    "        # print this\n",
    "        print(x, 'is equal to', y)\n",
    "    # otherwise\n",
    "    else:\n",
    "        # print this\n",
    "        print(y, 'is maximum')"
   ]
  },
  {
   "cell_type": "markdown",
   "metadata": {},
   "source": [
    "### Run the function with two arguments"
   ]
  },
  {
   "cell_type": "code",
   "execution_count": 22,
   "metadata": {
    "collapsed": false
   },
   "outputs": [
    {
     "name": "stdout",
     "output_type": "stream",
     "text": [
      "4 is maximum\n"
     ]
    }
   ],
   "source": [
    "printMax(3,4)"
   ]
  },
  {
   "cell_type": "markdown",
   "metadata": {},
   "source": [
    "###  View the docstring"
   ]
  },
  {
   "cell_type": "code",
   "execution_count": 23,
   "metadata": {
    "collapsed": false
   },
   "outputs": [
    {
     "name": "stdout",
     "output_type": "stream",
     "text": [
      "Prints out the maximum of two values\n"
     ]
    }
   ],
   "source": [
    "print(printMax.__doc__)"
   ]
  }
 ],
 "metadata": {
  "kernelspec": {
   "display_name": "Python 3",
   "language": "python",
   "name": "python3"
  },
  "language_info": {
   "codemirror_mode": {
    "name": "ipython",
    "version": 3
   },
   "file_extension": ".py",
   "mimetype": "text/x-python",
   "name": "python",
   "nbconvert_exporter": "python",
   "pygments_lexer": "ipython3",
   "version": "3.5.1"
  }
 },
 "nbformat": 4,
 "nbformat_minor": 0
}
