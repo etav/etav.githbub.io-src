{
 "cells": [
  {
   "cell_type": "code",
   "execution_count": 45,
   "metadata": {
    "collapsed": true
   },
   "outputs": [],
   "source": [
    "from os import listdir"
   ]
  },
  {
   "cell_type": "code",
   "execution_count": 46,
   "metadata": {
    "collapsed": false
   },
   "outputs": [],
   "source": [
    "filenames = []\n",
    "\n",
    "for file in listdir(\".\"):\n",
    "    if file.endswith(\".md\"):\n",
    "        filenames.append(file)"
   ]
  },
  {
   "cell_type": "code",
   "execution_count": 48,
   "metadata": {
    "collapsed": false
   },
   "outputs": [],
   "source": [
    "for file in filenames:\n",
    "    with open(file, 'r+') as f:\n",
    "        content = f.read()\n",
    "        header = 'Title: TITLETITLE\\nSlug: SLUGSLUG\\nSummary: TITLETITLE\\nDate: 2016-05-01 12:00\\nCategory: Python\\nTags: Basics\\nAuthors: Chris Albon\\n'\n",
    "        title = str(content.split('\\n')[1].lstrip('# '))\n",
    "        slug = str(file).split('.')[0]\n",
    "        header = header.replace('TITLETITLE', title)\n",
    "        header = header.replace('SLUGSLUG', slug)\n",
    "\n",
    "        content = content.replace(str(content.split('\\n')[1]), '')\n",
    "\n",
    "        f.seek(0, 0)\n",
    "        f.write(header + content)"
   ]
  },
  {
   "cell_type": "code",
   "execution_count": null,
   "metadata": {
    "collapsed": true
   },
   "outputs": [],
   "source": []
  }
 ],
 "metadata": {
  "kernelspec": {
   "display_name": "Python 3",
   "language": "python",
   "name": "python3"
  },
  "language_info": {
   "codemirror_mode": {
    "name": "ipython",
    "version": 3
   },
   "file_extension": ".py",
   "mimetype": "text/x-python",
   "name": "python",
   "nbconvert_exporter": "python",
   "pygments_lexer": "ipython3",
   "version": "3.5.1"
  }
 },
 "nbformat": 4,
 "nbformat_minor": 0
}
